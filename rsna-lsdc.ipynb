{
 "cells": [
  {
   "cell_type": "markdown",
   "metadata": {},
   "source": [
    "# Data & Config"
   ]
  },
  {
   "cell_type": "code",
   "execution_count": 87,
   "metadata": {
    "_cell_guid": "b1076dfc-b9ad-4769-8c92-a6c4dae69d19",
    "_uuid": "8f2839f25d086af736a60e9eeb907d3b93b6e0e5",
    "execution": {
     "iopub.execute_input": "2024-06-27T20:30:15.611356Z",
     "iopub.status.busy": "2024-06-27T20:30:15.610428Z",
     "iopub.status.idle": "2024-06-27T20:30:15.617270Z",
     "shell.execute_reply": "2024-06-27T20:30:15.616125Z",
     "shell.execute_reply.started": "2024-06-27T20:30:15.611308Z"
    }
   },
   "outputs": [],
   "source": [
    "import pandas as pd\n",
    "import pydicom\n",
    "import numpy as np\n",
    "import cv2\n",
    "\n",
    "import torch\n",
    "import torch.nn as nn\n",
    "from torch.utils.data import Dataset, DataLoader\n",
    "import torch.optim as optim\n",
    "import albumentations as A\n",
    "import timm"
   ]
  },
  {
   "cell_type": "code",
   "execution_count": 89,
   "metadata": {
    "execution": {
     "iopub.execute_input": "2024-06-27T20:31:59.249169Z",
     "iopub.status.busy": "2024-06-27T20:31:59.248750Z",
     "iopub.status.idle": "2024-06-27T20:31:59.255005Z",
     "shell.execute_reply": "2024-06-27T20:31:59.253710Z",
     "shell.execute_reply.started": "2024-06-27T20:31:59.249134Z"
    }
   },
   "outputs": [],
   "source": [
    "IMG_SIZE = (512, 512)\n",
    "TRAIN_BATCH_SIZE = 16\n",
    "VALID_BATCH_SIZE = TRAIN_BATCH_SIZE * 2\n",
    "AUG_PROB = 0.75\n",
    "DEVICE = torch.device(\"cuda\" if torch.cuda.is_available() else \"cpu\")\n",
    "LR = 3e-5"
   ]
  },
  {
   "cell_type": "code",
   "execution_count": 36,
   "metadata": {
    "execution": {
     "iopub.execute_input": "2024-06-27T19:53:23.809000Z",
     "iopub.status.busy": "2024-06-27T19:53:23.808103Z",
     "iopub.status.idle": "2024-06-27T19:53:24.701807Z",
     "shell.execute_reply": "2024-06-27T19:53:24.700626Z",
     "shell.execute_reply.started": "2024-06-27T19:53:23.808953Z"
    }
   },
   "outputs": [
    {
     "data": {
      "text/html": [
       "<div>\n",
       "<style scoped>\n",
       "    .dataframe tbody tr th:only-of-type {\n",
       "        vertical-align: middle;\n",
       "    }\n",
       "\n",
       "    .dataframe tbody tr th {\n",
       "        vertical-align: top;\n",
       "    }\n",
       "\n",
       "    .dataframe thead th {\n",
       "        text-align: right;\n",
       "    }\n",
       "</style>\n",
       "<table border=\"1\" class=\"dataframe\">\n",
       "  <thead>\n",
       "    <tr style=\"text-align: right;\">\n",
       "      <th></th>\n",
       "      <th>study_id</th>\n",
       "      <th>series_id</th>\n",
       "      <th>instance_number</th>\n",
       "      <th>spinal_canal_stenosis_l1_l2_Moderate</th>\n",
       "      <th>spinal_canal_stenosis_l1_l2_Normal/Mild</th>\n",
       "      <th>spinal_canal_stenosis_l1_l2_Severe</th>\n",
       "      <th>spinal_canal_stenosis_l2_l3_Moderate</th>\n",
       "      <th>spinal_canal_stenosis_l2_l3_Normal/Mild</th>\n",
       "      <th>spinal_canal_stenosis_l2_l3_Severe</th>\n",
       "      <th>spinal_canal_stenosis_l3_l4_Moderate</th>\n",
       "      <th>spinal_canal_stenosis_l3_l4_Normal/Mild</th>\n",
       "      <th>spinal_canal_stenosis_l3_l4_Severe</th>\n",
       "      <th>spinal_canal_stenosis_l4_l5_Moderate</th>\n",
       "      <th>spinal_canal_stenosis_l4_l5_Normal/Mild</th>\n",
       "      <th>spinal_canal_stenosis_l4_l5_Severe</th>\n",
       "      <th>spinal_canal_stenosis_l5_s1_Moderate</th>\n",
       "      <th>spinal_canal_stenosis_l5_s1_Normal/Mild</th>\n",
       "      <th>spinal_canal_stenosis_l5_s1_Severe</th>\n",
       "    </tr>\n",
       "  </thead>\n",
       "  <tbody>\n",
       "    <tr>\n",
       "      <th>0</th>\n",
       "      <td>1737682527</td>\n",
       "      <td>1258728011</td>\n",
       "      <td>12</td>\n",
       "      <td>0</td>\n",
       "      <td>1</td>\n",
       "      <td>0</td>\n",
       "      <td>0</td>\n",
       "      <td>1</td>\n",
       "      <td>0</td>\n",
       "      <td>0</td>\n",
       "      <td>1</td>\n",
       "      <td>0</td>\n",
       "      <td>0</td>\n",
       "      <td>1</td>\n",
       "      <td>0</td>\n",
       "      <td>0</td>\n",
       "      <td>1</td>\n",
       "      <td>0</td>\n",
       "    </tr>\n",
       "    <tr>\n",
       "      <th>1</th>\n",
       "      <td>1737682527</td>\n",
       "      <td>1258728011</td>\n",
       "      <td>18</td>\n",
       "      <td>0</td>\n",
       "      <td>1</td>\n",
       "      <td>0</td>\n",
       "      <td>0</td>\n",
       "      <td>1</td>\n",
       "      <td>0</td>\n",
       "      <td>0</td>\n",
       "      <td>1</td>\n",
       "      <td>0</td>\n",
       "      <td>0</td>\n",
       "      <td>1</td>\n",
       "      <td>0</td>\n",
       "      <td>0</td>\n",
       "      <td>1</td>\n",
       "      <td>0</td>\n",
       "    </tr>\n",
       "    <tr>\n",
       "      <th>2</th>\n",
       "      <td>1737682527</td>\n",
       "      <td>1258728011</td>\n",
       "      <td>9</td>\n",
       "      <td>0</td>\n",
       "      <td>1</td>\n",
       "      <td>0</td>\n",
       "      <td>0</td>\n",
       "      <td>1</td>\n",
       "      <td>0</td>\n",
       "      <td>0</td>\n",
       "      <td>1</td>\n",
       "      <td>0</td>\n",
       "      <td>0</td>\n",
       "      <td>1</td>\n",
       "      <td>0</td>\n",
       "      <td>0</td>\n",
       "      <td>1</td>\n",
       "      <td>0</td>\n",
       "    </tr>\n",
       "    <tr>\n",
       "      <th>3</th>\n",
       "      <td>1737682527</td>\n",
       "      <td>1258728011</td>\n",
       "      <td>14</td>\n",
       "      <td>0</td>\n",
       "      <td>1</td>\n",
       "      <td>0</td>\n",
       "      <td>0</td>\n",
       "      <td>1</td>\n",
       "      <td>0</td>\n",
       "      <td>0</td>\n",
       "      <td>1</td>\n",
       "      <td>0</td>\n",
       "      <td>0</td>\n",
       "      <td>1</td>\n",
       "      <td>0</td>\n",
       "      <td>0</td>\n",
       "      <td>1</td>\n",
       "      <td>0</td>\n",
       "    </tr>\n",
       "    <tr>\n",
       "      <th>4</th>\n",
       "      <td>1737682527</td>\n",
       "      <td>1258728011</td>\n",
       "      <td>11</td>\n",
       "      <td>0</td>\n",
       "      <td>1</td>\n",
       "      <td>0</td>\n",
       "      <td>0</td>\n",
       "      <td>1</td>\n",
       "      <td>0</td>\n",
       "      <td>0</td>\n",
       "      <td>1</td>\n",
       "      <td>0</td>\n",
       "      <td>0</td>\n",
       "      <td>1</td>\n",
       "      <td>0</td>\n",
       "      <td>0</td>\n",
       "      <td>1</td>\n",
       "      <td>0</td>\n",
       "    </tr>\n",
       "  </tbody>\n",
       "</table>\n",
       "</div>"
      ],
      "text/plain": [
       "     study_id   series_id  instance_number  \\\n",
       "0  1737682527  1258728011               12   \n",
       "1  1737682527  1258728011               18   \n",
       "2  1737682527  1258728011                9   \n",
       "3  1737682527  1258728011               14   \n",
       "4  1737682527  1258728011               11   \n",
       "\n",
       "   spinal_canal_stenosis_l1_l2_Moderate  \\\n",
       "0                                     0   \n",
       "1                                     0   \n",
       "2                                     0   \n",
       "3                                     0   \n",
       "4                                     0   \n",
       "\n",
       "   spinal_canal_stenosis_l1_l2_Normal/Mild  \\\n",
       "0                                        1   \n",
       "1                                        1   \n",
       "2                                        1   \n",
       "3                                        1   \n",
       "4                                        1   \n",
       "\n",
       "   spinal_canal_stenosis_l1_l2_Severe  spinal_canal_stenosis_l2_l3_Moderate  \\\n",
       "0                                   0                                     0   \n",
       "1                                   0                                     0   \n",
       "2                                   0                                     0   \n",
       "3                                   0                                     0   \n",
       "4                                   0                                     0   \n",
       "\n",
       "   spinal_canal_stenosis_l2_l3_Normal/Mild  \\\n",
       "0                                        1   \n",
       "1                                        1   \n",
       "2                                        1   \n",
       "3                                        1   \n",
       "4                                        1   \n",
       "\n",
       "   spinal_canal_stenosis_l2_l3_Severe  spinal_canal_stenosis_l3_l4_Moderate  \\\n",
       "0                                   0                                     0   \n",
       "1                                   0                                     0   \n",
       "2                                   0                                     0   \n",
       "3                                   0                                     0   \n",
       "4                                   0                                     0   \n",
       "\n",
       "   spinal_canal_stenosis_l3_l4_Normal/Mild  \\\n",
       "0                                        1   \n",
       "1                                        1   \n",
       "2                                        1   \n",
       "3                                        1   \n",
       "4                                        1   \n",
       "\n",
       "   spinal_canal_stenosis_l3_l4_Severe  spinal_canal_stenosis_l4_l5_Moderate  \\\n",
       "0                                   0                                     0   \n",
       "1                                   0                                     0   \n",
       "2                                   0                                     0   \n",
       "3                                   0                                     0   \n",
       "4                                   0                                     0   \n",
       "\n",
       "   spinal_canal_stenosis_l4_l5_Normal/Mild  \\\n",
       "0                                        1   \n",
       "1                                        1   \n",
       "2                                        1   \n",
       "3                                        1   \n",
       "4                                        1   \n",
       "\n",
       "   spinal_canal_stenosis_l4_l5_Severe  spinal_canal_stenosis_l5_s1_Moderate  \\\n",
       "0                                   0                                     0   \n",
       "1                                   0                                     0   \n",
       "2                                   0                                     0   \n",
       "3                                   0                                     0   \n",
       "4                                   0                                     0   \n",
       "\n",
       "   spinal_canal_stenosis_l5_s1_Normal/Mild  spinal_canal_stenosis_l5_s1_Severe  \n",
       "0                                        1                                   0  \n",
       "1                                        1                                   0  \n",
       "2                                        1                                   0  \n",
       "3                                        1                                   0  \n",
       "4                                        1                                   0  "
      ]
     },
     "execution_count": 36,
     "metadata": {},
     "output_type": "execute_result"
    }
   ],
   "source": [
    "df = pd.read_csv(\"/kaggle/input/rsna-lsdc-data/train.csv\")\n",
    "\n",
    "df = df[df[\"series_description\"] == \"Sagittal T1\"]\n",
    "\n",
    "cols_to_include = [\"study_id\", \"series_id\", \"instance_number\"] + list(filter(lambda x: x.startswith(\"spinal_canal_stenosis\"), df.columns))\n",
    "df = df[cols_to_include]\n",
    "\n",
    "df.reset_index(drop=True, inplace=True)\n",
    "df = pd.get_dummies(df, dtype=int)\n",
    "\n",
    "NUM_CLASSES = df.shape[1] - 3\n",
    "\n",
    "df.head()"
   ]
  },
  {
   "cell_type": "markdown",
   "metadata": {},
   "source": [
    "# Utils"
   ]
  },
  {
   "cell_type": "code",
   "execution_count": 37,
   "metadata": {
    "execution": {
     "iopub.execute_input": "2024-06-27T19:53:25.120553Z",
     "iopub.status.busy": "2024-06-27T19:53:25.120128Z",
     "iopub.status.idle": "2024-06-27T19:53:25.126777Z",
     "shell.execute_reply": "2024-06-27T19:53:25.125653Z",
     "shell.execute_reply.started": "2024-06-27T19:53:25.120520Z"
    }
   },
   "outputs": [],
   "source": [
    "def load_dicom(src_path, resize_shape):\n",
    "\n",
    "    dicom_data = pydicom.dcmread(src_path).pixel_array\n",
    "    resized_image = (dicom_data / np.max(dicom_data) * 255).astype(np.uint8)\n",
    "    resized_image = cv2.resize(resized_image, resize_shape)\n",
    "    \n",
    "    return resized_image"
   ]
  },
  {
   "cell_type": "markdown",
   "metadata": {},
   "source": [
    "# Dataset & DataLoader"
   ]
  },
  {
   "cell_type": "code",
   "execution_count": 63,
   "metadata": {
    "execution": {
     "iopub.execute_input": "2024-06-27T20:00:27.269054Z",
     "iopub.status.busy": "2024-06-27T20:00:27.268653Z",
     "iopub.status.idle": "2024-06-27T20:00:27.284403Z",
     "shell.execute_reply": "2024-06-27T20:00:27.282987Z",
     "shell.execute_reply.started": "2024-06-27T20:00:27.269022Z"
    }
   },
   "outputs": [],
   "source": [
    "from sklearn.model_selection import train_test_split\n",
    "\n",
    "train_df, valid_df = train_test_split(df, test_size=.2, random_state=42)\n",
    "train_df.reset_index(drop=True, inplace=True)\n",
    "valid_df.reset_index(drop=True, inplace=True)"
   ]
  },
  {
   "cell_type": "code",
   "execution_count": 64,
   "metadata": {
    "execution": {
     "iopub.execute_input": "2024-06-27T20:00:28.255204Z",
     "iopub.status.busy": "2024-06-27T20:00:28.254434Z",
     "iopub.status.idle": "2024-06-27T20:00:28.264163Z",
     "shell.execute_reply": "2024-06-27T20:00:28.263032Z",
     "shell.execute_reply.started": "2024-06-27T20:00:28.255168Z"
    }
   },
   "outputs": [
    {
     "name": "stderr",
     "output_type": "stream",
     "text": [
      "/opt/conda/lib/python3.10/site-packages/albumentations/augmentations/blur/transforms.py:180: UserWarning: blur_limit and sigma_limit minimum value can not be both equal to 0. blur_limit minimum value changed to 3.\n",
      "  warnings.warn(\n"
     ]
    }
   ],
   "source": [
    "transforms_train = A.Compose([\n",
    "    A.RandomBrightnessContrast(brightness_limit=(-0.2, 0.2), contrast_limit=(-0.2, 0.2), p=AUG_PROB),\n",
    "    A.OneOf([\n",
    "        A.MotionBlur(blur_limit=5),\n",
    "        A.MedianBlur(blur_limit=5),\n",
    "        A.GaussianBlur(blur_limit=5),\n",
    "        A.GaussNoise(var_limit=(5.0, 30.0)),\n",
    "    ], p=AUG_PROB),\n",
    "\n",
    "    A.OneOf([\n",
    "        A.OpticalDistortion(distort_limit=1.0),\n",
    "        A.GridDistortion(num_steps=5, distort_limit=1.),\n",
    "        A.ElasticTransform(alpha=3),\n",
    "    ], p=AUG_PROB),\n",
    "\n",
    "    A.ShiftScaleRotate(shift_limit=0.1, scale_limit=0.1, rotate_limit=15, border_mode=0, p=AUG_PROB),\n",
    "    # A.Resize(IMG_SIZE[0], IMG_SIZE[1]),\n",
    "    A.CoarseDropout(max_holes=16, max_height=64, max_width=64, min_holes=1, min_height=8, min_width=8, p=AUG_PROB),    \n",
    "    A.Normalize(mean=0.5, std=0.5)\n",
    "])\n",
    "\n",
    "transforms_valid = A.Compose([\n",
    "    # A.Resize(IMG_SIZE[0], IMG_SIZE[1]),\n",
    "    A.Normalize(mean=0.5, std=0.5)\n",
    "])"
   ]
  },
  {
   "cell_type": "code",
   "execution_count": 65,
   "metadata": {
    "execution": {
     "iopub.execute_input": "2024-06-27T20:00:29.207978Z",
     "iopub.status.busy": "2024-06-27T20:00:29.207542Z",
     "iopub.status.idle": "2024-06-27T20:00:29.216738Z",
     "shell.execute_reply": "2024-06-27T20:00:29.215431Z",
     "shell.execute_reply.started": "2024-06-27T20:00:29.207946Z"
    }
   },
   "outputs": [],
   "source": [
    "class LSDCDataset(Dataset):\n",
    "    def __init__(self, df, transforms=None):\n",
    "        self.df = df\n",
    "        self.transforms = transforms\n",
    "        \n",
    "    def __len__(self): return len(self.df)\n",
    "    \n",
    "    def __getitem__(self, i):\n",
    "        \n",
    "        row = self.df.loc[i]\n",
    "        study_id = row[\"study_id\"]\n",
    "        series_id = row[\"series_id\"]\n",
    "        instance_number = row[\"instance_number\"]\n",
    "        \n",
    "        dcm_src = f\"/kaggle/input/rsna-2024-lumbar-spine-degenerative-classification/train_images/{study_id}/{series_id}/{instance_number}.dcm\"\n",
    "        image = load_dicom(dcm_src, IMG_SIZE)\n",
    "        \n",
    "        if self.transforms is not None:\n",
    "            image = self.transforms(image=image)[\"image\"]\n",
    "        image = torch.tensor(np.expand_dims(image, axis=0), dtype=torch.float)\n",
    "        \n",
    "        columns = list(self.df.columns)[3:]\n",
    "        target = torch.tensor(row[columns].values, dtype=torch.float)\n",
    "        \n",
    "        return image, target"
   ]
  },
  {
   "cell_type": "code",
   "execution_count": 66,
   "metadata": {
    "execution": {
     "iopub.execute_input": "2024-06-27T20:00:30.063892Z",
     "iopub.status.busy": "2024-06-27T20:00:30.063484Z",
     "iopub.status.idle": "2024-06-27T20:00:30.070435Z",
     "shell.execute_reply": "2024-06-27T20:00:30.069093Z",
     "shell.execute_reply.started": "2024-06-27T20:00:30.063859Z"
    }
   },
   "outputs": [],
   "source": [
    "train_dataset = LSDCDataset(train_df, transforms=transforms_train)\n",
    "train_dataloader = DataLoader(train_dataset, batch_size=TRAIN_BATCH_SIZE, shuffle=True)\n",
    "\n",
    "valid_dataset = LSDCDataset(valid_df, transforms=transforms_valid)\n",
    "valid_dataloader = DataLoader(valid_dataset, batch_size=VALID_BATCH_SIZE, shuffle=False)"
   ]
  },
  {
   "cell_type": "markdown",
   "metadata": {},
   "source": [
    "# Modelling"
   ]
  },
  {
   "cell_type": "code",
   "execution_count": 92,
   "metadata": {
    "execution": {
     "iopub.execute_input": "2024-06-27T20:32:33.236483Z",
     "iopub.status.busy": "2024-06-27T20:32:33.235995Z",
     "iopub.status.idle": "2024-06-27T20:32:33.243839Z",
     "shell.execute_reply": "2024-06-27T20:32:33.242719Z",
     "shell.execute_reply.started": "2024-06-27T20:32:33.236448Z"
    }
   },
   "outputs": [],
   "source": [
    "class Model(nn.Module):\n",
    "    def __init__(self, num_classes):\n",
    "        super(Model, self).__init__()\n",
    "        \n",
    "        self.conv_layer = nn.Conv2d(in_channels=1, out_channels=1, kernel_size=1)\n",
    "        self.cnn_model = timm.create_model('efficientnet_b0', num_classes=num_classes, pretrained=True)\n",
    "    \n",
    "    def forward(self, X):\n",
    "        X = self.conv_layer(X)\n",
    "        X = self.cnn_model(X)\n",
    "        \n",
    "        return X"
   ]
  },
  {
   "cell_type": "markdown",
   "metadata": {},
   "source": [
    "# Training"
   ]
  },
  {
   "cell_type": "code",
   "execution_count": 96,
   "metadata": {
    "execution": {
     "iopub.execute_input": "2024-06-27T20:33:57.660060Z",
     "iopub.status.busy": "2024-06-27T20:33:57.659639Z",
     "iopub.status.idle": "2024-06-27T20:33:58.000874Z",
     "shell.execute_reply": "2024-06-27T20:33:57.999584Z",
     "shell.execute_reply.started": "2024-06-27T20:33:57.660028Z"
    }
   },
   "outputs": [],
   "source": [
    "model = Model(NUM_CLASSES)\n",
    "model.to(DEVICE)\n",
    "\n",
    "optimizer = optim.Adam(model.parameters(), lr=LR)\n",
    "loss_fn = nn.CrossEntropyLoss()"
   ]
  },
  {
   "cell_type": "code",
   "execution_count": null,
   "metadata": {},
   "outputs": [],
   "source": [
    "def train_epoch():\n",
    "    pass"
   ]
  }
 ],
 "metadata": {
  "kaggle": {
   "accelerator": "none",
   "dataSources": [
    {
     "databundleVersionId": 8561470,
     "sourceId": 71549,
     "sourceType": "competition"
    },
    {
     "datasetId": 5295213,
     "sourceId": 8804697,
     "sourceType": "datasetVersion"
    }
   ],
   "dockerImageVersionId": 30732,
   "isGpuEnabled": false,
   "isInternetEnabled": true,
   "language": "python",
   "sourceType": "notebook"
  },
  "kernelspec": {
   "display_name": "Python 3 (ipykernel)",
   "language": "python",
   "name": "python3"
  },
  "language_info": {
   "codemirror_mode": {
    "name": "ipython",
    "version": 3
   },
   "file_extension": ".py",
   "mimetype": "text/x-python",
   "name": "python",
   "nbconvert_exporter": "python",
   "pygments_lexer": "ipython3",
   "version": "3.11.6"
  }
 },
 "nbformat": 4,
 "nbformat_minor": 4
}
